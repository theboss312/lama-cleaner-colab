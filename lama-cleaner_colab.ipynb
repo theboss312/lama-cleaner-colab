{
  "nbformat": 4,
  "nbformat_minor": 0,
  "metadata": {
    "colab": {
      "name": "lama-cleaner_colab.ipynb",
      "provenance": []
    },
    "kernelspec": {
      "name": "python3",
      "display_name": "Python 3"
    },
    "language_info": {
      "name": "python"
    },
    "accelerator": "GPU"
  },
  "cells": [
    {
      "cell_type": "code",
      "execution_count": null,
      "metadata": {
        "id": "q2upsVy1NsZK"
      },
      "outputs": [],
      "source": [
        "!git clone https://github.com/theboss312/lama-cleaner-colab.git"
      ]
    },
    {
      "cell_type": "code",
      "source": [
        "%cd lama-cleaner-colab\n",
        "!pip3 install -r requirements.txt"
      ],
      "metadata": {
        "id": "uJ7gq0FxODxq"
      },
      "execution_count": null,
      "outputs": []
    },
    {
      "cell_type": "code",
      "source": [
        "#@title Setup ngrok\n",
        "# Taken from source of flask-ngrok\n",
        "\n",
        "import atexit\n",
        "import json\n",
        "import os\n",
        "import platform\n",
        "import shutil\n",
        "import subprocess\n",
        "import tempfile\n",
        "import time\n",
        "import zipfile\n",
        "from pathlib import Path\n",
        "import requests\n",
        "\n",
        "def _download_file(url):\n",
        "    local_filename = url.split('/')[-1]\n",
        "    r = requests.get(url, stream=True)\n",
        "    download_path = str(Path(tempfile.gettempdir(), local_filename))\n",
        "    with open(download_path, 'wb') as f:\n",
        "        shutil.copyfileobj(r.raw, f)\n",
        "    return download_path\n",
        "\n",
        "def _get_command():\n",
        "    system = platform.system()\n",
        "    if system == \"Darwin\":\n",
        "        command = \"ngrok\"\n",
        "    elif system == \"Windows\":\n",
        "        command = \"ngrok.exe\"\n",
        "    elif system == \"Linux\":\n",
        "        command = \"ngrok\"\n",
        "    else:\n",
        "        raise Exception(\"{system} is not supported\".format(system=system))\n",
        "    return command\n",
        "\n",
        "def _download_ngrok(ngrok_path):\n",
        "    if Path(ngrok_path).exists():\n",
        "        return\n",
        "    system = platform.system()\n",
        "    if system == \"Darwin\":\n",
        "        url = \"https://bin.equinox.io/c/4VmDzA7iaHb/ngrok-stable-darwin-amd64.zip\"\n",
        "    elif system == \"Windows\":\n",
        "        url = \"https://bin.equinox.io/c/4VmDzA7iaHb/ngrok-stable-windows-amd64.zip\"\n",
        "    elif system == \"Linux\":\n",
        "        url = \"https://bin.equinox.io/c/4VmDzA7iaHb/ngrok-stable-linux-amd64.zip\"\n",
        "    else:\n",
        "        raise Exception(f\"{system} is not supported\")\n",
        "    download_path = _download_file(url)\n",
        "    with zipfile.ZipFile(download_path, \"r\") as zip_ref:\n",
        "        zip_ref.extractall(ngrok_path)\n",
        "\n",
        "command = _get_command()\n",
        "ngrok_path = str(Path(tempfile.gettempdir(), \"ngrok\"))\n",
        "_download_ngrok(ngrok_path)\n",
        "executable = str(Path(ngrok_path, command))\n",
        "os.chmod(executable, 0o777)\n",
        "\n",
        "\n"
      ],
      "metadata": {
        "id": "94Xsmk5olA0u",
        "cellView": "form"
      },
      "execution_count": null,
      "outputs": []
    },
    {
      "cell_type": "code",
      "source": [
        "! /tmp/ngrok/ngrok authtoken <NGROK_AUTH_TOKEN_HERE>"
      ],
      "metadata": {
        "id": "zZovdKA0QIQX"
      },
      "execution_count": null,
      "outputs": []
    },
    {
      "cell_type": "code",
      "source": [
        "!python3 main.py --device=cuda --port=5000"
      ],
      "metadata": {
        "id": "PQvz8gdROP2-"
      },
      "execution_count": null,
      "outputs": []
    }
  ]
}
